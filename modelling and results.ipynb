{
 "cells": [
  {
   "cell_type": "markdown",
   "id": "5df7263c",
   "metadata": {},
   "source": [
    "#### Import packages"
   ]
  },
  {
   "cell_type": "code",
   "execution_count": 23,
   "id": "e5049ede",
   "metadata": {},
   "outputs": [],
   "source": [
    "import pandas as pd\n",
    "import matplotlib.pyplot as plt\n",
    "from matplotlib import pyplot\n",
    "\n",
    "import numpy as np\n",
    "from numpy import nan\n",
    "from sklearn import tree\n",
    "\n",
    "# importing models\n",
    "from sklearn.tree import DecisionTreeClassifier # Import Decision Tree Classifier\n",
    "from sklearn.ensemble import RandomForestClassifier, GradientBoostingClassifier\n",
    "\n",
    "from sklearn.model_selection import train_test_split # Import train_test_split function\n",
    "\n",
    "from sklearn import metrics #Import scikit-learn metrics module for accuracy calculation\n",
    "\n",
    "from sklearn.metrics import f1_score\n",
    "from sklearn.model_selection import cross_val_score\n",
    "from sklearn.metrics import confusion_matrix\n",
    "from sklearn.metrics import ConfusionMatrixDisplay\n",
    "from sklearn.model_selection import GridSearchCV\n",
    "\n",
    "from xgboost import XGBClassifier\n",
    "import seaborn as sns\n",
    "\n",
    "from numpy import mean\n",
    "from numpy import std\n",
    "\n",
    "\n"
   ]
  },
  {
   "cell_type": "code",
   "execution_count": 2,
   "id": "d9b57cf1",
   "metadata": {},
   "outputs": [],
   "source": [
    "df = pd.read_csv('Datasets/main_syn_bliss.csv')"
   ]
  },
  {
   "cell_type": "code",
   "execution_count": 3,
   "id": "eaa81cda",
   "metadata": {},
   "outputs": [
    {
     "data": {
      "text/html": [
       "<div>\n",
       "<style scoped>\n",
       "    .dataframe tbody tr th:only-of-type {\n",
       "        vertical-align: middle;\n",
       "    }\n",
       "\n",
       "    .dataframe tbody tr th {\n",
       "        vertical-align: top;\n",
       "    }\n",
       "\n",
       "    .dataframe thead th {\n",
       "        text-align: right;\n",
       "    }\n",
       "</style>\n",
       "<table border=\"1\" class=\"dataframe\">\n",
       "  <thead>\n",
       "    <tr style=\"text-align: right;\">\n",
       "      <th></th>\n",
       "      <th>block_id</th>\n",
       "      <th>drug_row</th>\n",
       "      <th>drug_col</th>\n",
       "      <th>cell_line_name</th>\n",
       "      <th>ic50_row</th>\n",
       "      <th>ic50_col</th>\n",
       "      <th>ri_row</th>\n",
       "      <th>ri_col</th>\n",
       "      <th>css_row</th>\n",
       "      <th>css_col</th>\n",
       "      <th>...</th>\n",
       "      <th>drug_row_clinical_phase</th>\n",
       "      <th>drug_col_clinical_phase</th>\n",
       "      <th>MW_row</th>\n",
       "      <th>LogP_row</th>\n",
       "      <th>NumHDonors_row</th>\n",
       "      <th>NumHAcceptors_row</th>\n",
       "      <th>MW_col</th>\n",
       "      <th>LogP_col</th>\n",
       "      <th>NumHDonors_col</th>\n",
       "      <th>NumHAcceptors_col</th>\n",
       "    </tr>\n",
       "  </thead>\n",
       "  <tbody>\n",
       "    <tr>\n",
       "      <th>0</th>\n",
       "      <td>16145</td>\n",
       "      <td>5-Fluorouracil</td>\n",
       "      <td>Veliparib</td>\n",
       "      <td>1</td>\n",
       "      <td>10.0</td>\n",
       "      <td>10.0</td>\n",
       "      <td>19.098</td>\n",
       "      <td>-1.661</td>\n",
       "      <td>23.201</td>\n",
       "      <td>35.158</td>\n",
       "      <td>...</td>\n",
       "      <td>4</td>\n",
       "      <td>3</td>\n",
       "      <td>130.078</td>\n",
       "      <td>-0.7977</td>\n",
       "      <td>2.0</td>\n",
       "      <td>2.0</td>\n",
       "      <td>244.298</td>\n",
       "      <td>1.2604</td>\n",
       "      <td>3.0</td>\n",
       "      <td>3.0</td>\n",
       "    </tr>\n",
       "    <tr>\n",
       "      <th>1</th>\n",
       "      <td>16146</td>\n",
       "      <td>5-Fluorouracil</td>\n",
       "      <td>Veliparib</td>\n",
       "      <td>1</td>\n",
       "      <td>10.0</td>\n",
       "      <td>10.0</td>\n",
       "      <td>19.098</td>\n",
       "      <td>-1.661</td>\n",
       "      <td>16.258</td>\n",
       "      <td>30.871</td>\n",
       "      <td>...</td>\n",
       "      <td>4</td>\n",
       "      <td>3</td>\n",
       "      <td>130.078</td>\n",
       "      <td>-0.7977</td>\n",
       "      <td>2.0</td>\n",
       "      <td>2.0</td>\n",
       "      <td>244.298</td>\n",
       "      <td>1.2604</td>\n",
       "      <td>3.0</td>\n",
       "      <td>3.0</td>\n",
       "    </tr>\n",
       "  </tbody>\n",
       "</table>\n",
       "<p>2 rows × 25 columns</p>\n",
       "</div>"
      ],
      "text/plain": [
       "   block_id        drug_row   drug_col  cell_line_name  ic50_row  ic50_col  \\\n",
       "0     16145  5-Fluorouracil  Veliparib               1      10.0      10.0   \n",
       "1     16146  5-Fluorouracil  Veliparib               1      10.0      10.0   \n",
       "\n",
       "   ri_row  ri_col  css_row  css_col  ...  drug_row_clinical_phase  \\\n",
       "0  19.098  -1.661   23.201   35.158  ...                        4   \n",
       "1  19.098  -1.661   16.258   30.871  ...                        4   \n",
       "\n",
       "   drug_col_clinical_phase   MW_row  LogP_row  NumHDonors_row  \\\n",
       "0                        3  130.078   -0.7977             2.0   \n",
       "1                        3  130.078   -0.7977             2.0   \n",
       "\n",
       "   NumHAcceptors_row   MW_col  LogP_col  NumHDonors_col  NumHAcceptors_col  \n",
       "0                2.0  244.298    1.2604             3.0                3.0  \n",
       "1                2.0  244.298    1.2604             3.0                3.0  \n",
       "\n",
       "[2 rows x 25 columns]"
      ]
     },
     "execution_count": 3,
     "metadata": {},
     "output_type": "execute_result"
    }
   ],
   "source": [
    "df.head(2)"
   ]
  },
  {
   "cell_type": "markdown",
   "id": "38500439",
   "metadata": {},
   "source": [
    "#### Adding target variable 'synergistic' with 0,1 binary classification values"
   ]
  },
  {
   "cell_type": "code",
   "execution_count": 4,
   "id": "32ae1725",
   "metadata": {},
   "outputs": [],
   "source": [
    "# we consider synergy values less than 0 as non-synergistic or antagonistic (i.e 0)\n",
    "# we consider 0 to 10 as intermediate and we neglect those samples\n",
    "df.loc[df['synergy_bliss']<0,'synergistic'] = 0 #antagonistic\n",
    "df.loc[df['synergy_bliss']>=10,'synergistic'] = 1 #synergistic"
   ]
  },
  {
   "cell_type": "code",
   "execution_count": 5,
   "id": "e211c218",
   "metadata": {},
   "outputs": [
    {
     "data": {
      "text/plain": [
       "0.0    3647\n",
       "1.0     594\n",
       "Name: synergistic, dtype: int64"
      ]
     },
     "execution_count": 5,
     "metadata": {},
     "output_type": "execute_result"
    }
   ],
   "source": [
    "df.synergistic.value_counts()"
   ]
  },
  {
   "cell_type": "code",
   "execution_count": 6,
   "id": "386832e7",
   "metadata": {},
   "outputs": [
    {
     "data": {
      "text/plain": [
       "0       0.0\n",
       "1       0.0\n",
       "2       NaN\n",
       "3       NaN\n",
       "4       0.0\n",
       "       ... \n",
       "7255    NaN\n",
       "7256    0.0\n",
       "7257    0.0\n",
       "7258    0.0\n",
       "7259    0.0\n",
       "Name: synergistic, Length: 7260, dtype: float64"
      ]
     },
     "execution_count": 6,
     "metadata": {},
     "output_type": "execute_result"
    }
   ],
   "source": [
    "df.synergistic"
   ]
  },
  {
   "cell_type": "code",
   "execution_count": 7,
   "id": "7aecc6bd",
   "metadata": {},
   "outputs": [],
   "source": [
    "df = df.dropna()"
   ]
  },
  {
   "cell_type": "code",
   "execution_count": 8,
   "id": "072bc28f",
   "metadata": {},
   "outputs": [
    {
     "data": {
      "text/html": [
       "<div>\n",
       "<style scoped>\n",
       "    .dataframe tbody tr th:only-of-type {\n",
       "        vertical-align: middle;\n",
       "    }\n",
       "\n",
       "    .dataframe tbody tr th {\n",
       "        vertical-align: top;\n",
       "    }\n",
       "\n",
       "    .dataframe thead th {\n",
       "        text-align: right;\n",
       "    }\n",
       "</style>\n",
       "<table border=\"1\" class=\"dataframe\">\n",
       "  <thead>\n",
       "    <tr style=\"text-align: right;\">\n",
       "      <th></th>\n",
       "      <th>block_id</th>\n",
       "      <th>drug_row</th>\n",
       "      <th>drug_col</th>\n",
       "      <th>cell_line_name</th>\n",
       "      <th>ic50_row</th>\n",
       "      <th>ic50_col</th>\n",
       "      <th>ri_row</th>\n",
       "      <th>ri_col</th>\n",
       "      <th>css_row</th>\n",
       "      <th>css_col</th>\n",
       "      <th>...</th>\n",
       "      <th>drug_col_clinical_phase</th>\n",
       "      <th>MW_row</th>\n",
       "      <th>LogP_row</th>\n",
       "      <th>NumHDonors_row</th>\n",
       "      <th>NumHAcceptors_row</th>\n",
       "      <th>MW_col</th>\n",
       "      <th>LogP_col</th>\n",
       "      <th>NumHDonors_col</th>\n",
       "      <th>NumHAcceptors_col</th>\n",
       "      <th>synergistic</th>\n",
       "    </tr>\n",
       "  </thead>\n",
       "  <tbody>\n",
       "    <tr>\n",
       "      <th>0</th>\n",
       "      <td>16145</td>\n",
       "      <td>5-Fluorouracil</td>\n",
       "      <td>Veliparib</td>\n",
       "      <td>1</td>\n",
       "      <td>10.000000</td>\n",
       "      <td>10.000000</td>\n",
       "      <td>19.098</td>\n",
       "      <td>-1.661</td>\n",
       "      <td>23.201</td>\n",
       "      <td>35.158</td>\n",
       "      <td>...</td>\n",
       "      <td>3</td>\n",
       "      <td>130.078</td>\n",
       "      <td>-0.7977</td>\n",
       "      <td>2.0</td>\n",
       "      <td>2.0</td>\n",
       "      <td>244.298</td>\n",
       "      <td>1.2604</td>\n",
       "      <td>3.0</td>\n",
       "      <td>3.0</td>\n",
       "      <td>0.0</td>\n",
       "    </tr>\n",
       "    <tr>\n",
       "      <th>1</th>\n",
       "      <td>16146</td>\n",
       "      <td>5-Fluorouracil</td>\n",
       "      <td>Veliparib</td>\n",
       "      <td>1</td>\n",
       "      <td>10.000000</td>\n",
       "      <td>10.000000</td>\n",
       "      <td>19.098</td>\n",
       "      <td>-1.661</td>\n",
       "      <td>16.258</td>\n",
       "      <td>30.871</td>\n",
       "      <td>...</td>\n",
       "      <td>3</td>\n",
       "      <td>130.078</td>\n",
       "      <td>-0.7977</td>\n",
       "      <td>2.0</td>\n",
       "      <td>2.0</td>\n",
       "      <td>244.298</td>\n",
       "      <td>1.2604</td>\n",
       "      <td>3.0</td>\n",
       "      <td>3.0</td>\n",
       "      <td>0.0</td>\n",
       "    </tr>\n",
       "    <tr>\n",
       "      <th>4</th>\n",
       "      <td>27701</td>\n",
       "      <td>5-Fluorouracil</td>\n",
       "      <td>Veliparib</td>\n",
       "      <td>2</td>\n",
       "      <td>8.055629</td>\n",
       "      <td>3.896132</td>\n",
       "      <td>22.529</td>\n",
       "      <td>5.580</td>\n",
       "      <td>29.098</td>\n",
       "      <td>41.526</td>\n",
       "      <td>...</td>\n",
       "      <td>3</td>\n",
       "      <td>130.078</td>\n",
       "      <td>-0.7977</td>\n",
       "      <td>2.0</td>\n",
       "      <td>2.0</td>\n",
       "      <td>244.298</td>\n",
       "      <td>1.2604</td>\n",
       "      <td>3.0</td>\n",
       "      <td>3.0</td>\n",
       "      <td>0.0</td>\n",
       "    </tr>\n",
       "    <tr>\n",
       "      <th>5</th>\n",
       "      <td>27702</td>\n",
       "      <td>5-Fluorouracil</td>\n",
       "      <td>Veliparib</td>\n",
       "      <td>2</td>\n",
       "      <td>8.055629</td>\n",
       "      <td>3.896132</td>\n",
       "      <td>22.529</td>\n",
       "      <td>5.580</td>\n",
       "      <td>24.654</td>\n",
       "      <td>38.375</td>\n",
       "      <td>...</td>\n",
       "      <td>3</td>\n",
       "      <td>130.078</td>\n",
       "      <td>-0.7977</td>\n",
       "      <td>2.0</td>\n",
       "      <td>2.0</td>\n",
       "      <td>244.298</td>\n",
       "      <td>1.2604</td>\n",
       "      <td>3.0</td>\n",
       "      <td>3.0</td>\n",
       "      <td>0.0</td>\n",
       "    </tr>\n",
       "    <tr>\n",
       "      <th>7</th>\n",
       "      <td>27704</td>\n",
       "      <td>5-Fluorouracil</td>\n",
       "      <td>Veliparib</td>\n",
       "      <td>2</td>\n",
       "      <td>8.055629</td>\n",
       "      <td>3.896132</td>\n",
       "      <td>22.529</td>\n",
       "      <td>5.580</td>\n",
       "      <td>28.687</td>\n",
       "      <td>40.587</td>\n",
       "      <td>...</td>\n",
       "      <td>3</td>\n",
       "      <td>130.078</td>\n",
       "      <td>-0.7977</td>\n",
       "      <td>2.0</td>\n",
       "      <td>2.0</td>\n",
       "      <td>244.298</td>\n",
       "      <td>1.2604</td>\n",
       "      <td>3.0</td>\n",
       "      <td>3.0</td>\n",
       "      <td>0.0</td>\n",
       "    </tr>\n",
       "    <tr>\n",
       "      <th>...</th>\n",
       "      <td>...</td>\n",
       "      <td>...</td>\n",
       "      <td>...</td>\n",
       "      <td>...</td>\n",
       "      <td>...</td>\n",
       "      <td>...</td>\n",
       "      <td>...</td>\n",
       "      <td>...</td>\n",
       "      <td>...</td>\n",
       "      <td>...</td>\n",
       "      <td>...</td>\n",
       "      <td>...</td>\n",
       "      <td>...</td>\n",
       "      <td>...</td>\n",
       "      <td>...</td>\n",
       "      <td>...</td>\n",
       "      <td>...</td>\n",
       "      <td>...</td>\n",
       "      <td>...</td>\n",
       "      <td>...</td>\n",
       "      <td>...</td>\n",
       "    </tr>\n",
       "    <tr>\n",
       "      <th>7253</th>\n",
       "      <td>77958</td>\n",
       "      <td>Vorinostat</td>\n",
       "      <td>891494-63-6</td>\n",
       "      <td>5</td>\n",
       "      <td>2.859269</td>\n",
       "      <td>4.000000</td>\n",
       "      <td>13.175</td>\n",
       "      <td>-6.161</td>\n",
       "      <td>33.067</td>\n",
       "      <td>51.646</td>\n",
       "      <td>...</td>\n",
       "      <td>2</td>\n",
       "      <td>264.325</td>\n",
       "      <td>2.4711</td>\n",
       "      <td>3.0</td>\n",
       "      <td>3.0</td>\n",
       "      <td>376.262</td>\n",
       "      <td>1.9415</td>\n",
       "      <td>2.0</td>\n",
       "      <td>7.0</td>\n",
       "      <td>0.0</td>\n",
       "    </tr>\n",
       "    <tr>\n",
       "      <th>7256</th>\n",
       "      <td>89609</td>\n",
       "      <td>Vorinostat</td>\n",
       "      <td>891494-63-6</td>\n",
       "      <td>6</td>\n",
       "      <td>4.000000</td>\n",
       "      <td>0.407414</td>\n",
       "      <td>21.778</td>\n",
       "      <td>17.418</td>\n",
       "      <td>29.868</td>\n",
       "      <td>90.481</td>\n",
       "      <td>...</td>\n",
       "      <td>2</td>\n",
       "      <td>264.325</td>\n",
       "      <td>2.4711</td>\n",
       "      <td>3.0</td>\n",
       "      <td>3.0</td>\n",
       "      <td>376.262</td>\n",
       "      <td>1.9415</td>\n",
       "      <td>2.0</td>\n",
       "      <td>7.0</td>\n",
       "      <td>0.0</td>\n",
       "    </tr>\n",
       "    <tr>\n",
       "      <th>7257</th>\n",
       "      <td>89610</td>\n",
       "      <td>Vorinostat</td>\n",
       "      <td>891494-63-6</td>\n",
       "      <td>6</td>\n",
       "      <td>4.000000</td>\n",
       "      <td>0.407414</td>\n",
       "      <td>21.778</td>\n",
       "      <td>17.418</td>\n",
       "      <td>24.650</td>\n",
       "      <td>84.304</td>\n",
       "      <td>...</td>\n",
       "      <td>2</td>\n",
       "      <td>264.325</td>\n",
       "      <td>2.4711</td>\n",
       "      <td>3.0</td>\n",
       "      <td>3.0</td>\n",
       "      <td>376.262</td>\n",
       "      <td>1.9415</td>\n",
       "      <td>2.0</td>\n",
       "      <td>7.0</td>\n",
       "      <td>0.0</td>\n",
       "    </tr>\n",
       "    <tr>\n",
       "      <th>7258</th>\n",
       "      <td>89611</td>\n",
       "      <td>Vorinostat</td>\n",
       "      <td>891494-63-6</td>\n",
       "      <td>6</td>\n",
       "      <td>4.000000</td>\n",
       "      <td>0.407414</td>\n",
       "      <td>21.778</td>\n",
       "      <td>17.418</td>\n",
       "      <td>23.352</td>\n",
       "      <td>89.954</td>\n",
       "      <td>...</td>\n",
       "      <td>2</td>\n",
       "      <td>264.325</td>\n",
       "      <td>2.4711</td>\n",
       "      <td>3.0</td>\n",
       "      <td>3.0</td>\n",
       "      <td>376.262</td>\n",
       "      <td>1.9415</td>\n",
       "      <td>2.0</td>\n",
       "      <td>7.0</td>\n",
       "      <td>0.0</td>\n",
       "    </tr>\n",
       "    <tr>\n",
       "      <th>7259</th>\n",
       "      <td>89612</td>\n",
       "      <td>Vorinostat</td>\n",
       "      <td>891494-63-6</td>\n",
       "      <td>6</td>\n",
       "      <td>4.000000</td>\n",
       "      <td>0.407414</td>\n",
       "      <td>21.778</td>\n",
       "      <td>17.418</td>\n",
       "      <td>20.568</td>\n",
       "      <td>86.596</td>\n",
       "      <td>...</td>\n",
       "      <td>2</td>\n",
       "      <td>264.325</td>\n",
       "      <td>2.4711</td>\n",
       "      <td>3.0</td>\n",
       "      <td>3.0</td>\n",
       "      <td>376.262</td>\n",
       "      <td>1.9415</td>\n",
       "      <td>2.0</td>\n",
       "      <td>7.0</td>\n",
       "      <td>0.0</td>\n",
       "    </tr>\n",
       "  </tbody>\n",
       "</table>\n",
       "<p>4241 rows × 26 columns</p>\n",
       "</div>"
      ],
      "text/plain": [
       "      block_id        drug_row     drug_col  cell_line_name   ic50_row  \\\n",
       "0        16145  5-Fluorouracil    Veliparib               1  10.000000   \n",
       "1        16146  5-Fluorouracil    Veliparib               1  10.000000   \n",
       "4        27701  5-Fluorouracil    Veliparib               2   8.055629   \n",
       "5        27702  5-Fluorouracil    Veliparib               2   8.055629   \n",
       "7        27704  5-Fluorouracil    Veliparib               2   8.055629   \n",
       "...        ...             ...          ...             ...        ...   \n",
       "7253     77958      Vorinostat  891494-63-6               5   2.859269   \n",
       "7256     89609      Vorinostat  891494-63-6               6   4.000000   \n",
       "7257     89610      Vorinostat  891494-63-6               6   4.000000   \n",
       "7258     89611      Vorinostat  891494-63-6               6   4.000000   \n",
       "7259     89612      Vorinostat  891494-63-6               6   4.000000   \n",
       "\n",
       "       ic50_col  ri_row  ri_col  css_row  css_col  ...  \\\n",
       "0     10.000000  19.098  -1.661   23.201   35.158  ...   \n",
       "1     10.000000  19.098  -1.661   16.258   30.871  ...   \n",
       "4      3.896132  22.529   5.580   29.098   41.526  ...   \n",
       "5      3.896132  22.529   5.580   24.654   38.375  ...   \n",
       "7      3.896132  22.529   5.580   28.687   40.587  ...   \n",
       "...         ...     ...     ...      ...      ...  ...   \n",
       "7253   4.000000  13.175  -6.161   33.067   51.646  ...   \n",
       "7256   0.407414  21.778  17.418   29.868   90.481  ...   \n",
       "7257   0.407414  21.778  17.418   24.650   84.304  ...   \n",
       "7258   0.407414  21.778  17.418   23.352   89.954  ...   \n",
       "7259   0.407414  21.778  17.418   20.568   86.596  ...   \n",
       "\n",
       "      drug_col_clinical_phase   MW_row  LogP_row  NumHDonors_row  \\\n",
       "0                           3  130.078   -0.7977             2.0   \n",
       "1                           3  130.078   -0.7977             2.0   \n",
       "4                           3  130.078   -0.7977             2.0   \n",
       "5                           3  130.078   -0.7977             2.0   \n",
       "7                           3  130.078   -0.7977             2.0   \n",
       "...                       ...      ...       ...             ...   \n",
       "7253                        2  264.325    2.4711             3.0   \n",
       "7256                        2  264.325    2.4711             3.0   \n",
       "7257                        2  264.325    2.4711             3.0   \n",
       "7258                        2  264.325    2.4711             3.0   \n",
       "7259                        2  264.325    2.4711             3.0   \n",
       "\n",
       "      NumHAcceptors_row   MW_col  LogP_col  NumHDonors_col  NumHAcceptors_col  \\\n",
       "0                   2.0  244.298    1.2604             3.0                3.0   \n",
       "1                   2.0  244.298    1.2604             3.0                3.0   \n",
       "4                   2.0  244.298    1.2604             3.0                3.0   \n",
       "5                   2.0  244.298    1.2604             3.0                3.0   \n",
       "7                   2.0  244.298    1.2604             3.0                3.0   \n",
       "...                 ...      ...       ...             ...                ...   \n",
       "7253                3.0  376.262    1.9415             2.0                7.0   \n",
       "7256                3.0  376.262    1.9415             2.0                7.0   \n",
       "7257                3.0  376.262    1.9415             2.0                7.0   \n",
       "7258                3.0  376.262    1.9415             2.0                7.0   \n",
       "7259                3.0  376.262    1.9415             2.0                7.0   \n",
       "\n",
       "      synergistic  \n",
       "0             0.0  \n",
       "1             0.0  \n",
       "4             0.0  \n",
       "5             0.0  \n",
       "7             0.0  \n",
       "...           ...  \n",
       "7253          0.0  \n",
       "7256          0.0  \n",
       "7257          0.0  \n",
       "7258          0.0  \n",
       "7259          0.0  \n",
       "\n",
       "[4241 rows x 26 columns]"
      ]
     },
     "execution_count": 8,
     "metadata": {},
     "output_type": "execute_result"
    }
   ],
   "source": [
    "df"
   ]
  },
  {
   "cell_type": "markdown",
   "id": "5b6749a2",
   "metadata": {},
   "source": [
    "#### Plotting number of synergistic and number of antagonistic rows"
   ]
  },
  {
   "cell_type": "code",
   "execution_count": 9,
   "id": "0e6c9d4c",
   "metadata": {},
   "outputs": [
    {
     "data": {
      "text/plain": [
       "Text(0, 0.5, 'Count')"
      ]
     },
     "execution_count": 9,
     "metadata": {},
     "output_type": "execute_result"
    },
    {
     "data": {
      "image/png": "[encoded data removed]",
      "text/plain": [
       "<Figure size 180x180 with 1 Axes>"
      ]
     },
     "metadata": {
      "needs_background": "light"
     },
     "output_type": "display_data"
    }
   ],
   "source": [
    "plt.figure(figsize=(2.5, 2.5))\n",
    "\n",
    "sns.countplot(x='synergistic', data=df, edgecolor='black')\n",
    "\n",
    "plt.xlabel('Synergistic', fontsize=14, fontweight='bold')\n",
    "plt.ylabel('Count', fontsize=14, fontweight='bold')\n",
    "\n",
    "# plt.savefig('synergistic counts.png')"
   ]
  },
  {
   "cell_type": "markdown",
   "id": "9f462466",
   "metadata": {},
   "source": [
    "### Applying ML model"
   ]
  },
  {
   "cell_type": "code",
   "execution_count": 10,
   "id": "b2e75173",
   "metadata": {},
   "outputs": [
    {
     "data": {
      "text/plain": [
       "Index(['block_id', 'drug_row', 'drug_col', 'cell_line_name', 'ic50_row',\n",
       "       'ic50_col', 'ri_row', 'ri_col', 'css_row', 'css_col', 'css_ri', 'S_sum',\n",
       "       'S_mean', 'S_max', 'synergy_bliss', 'drug_row_clinical_phase',\n",
       "       'drug_col_clinical_phase', 'MW_row', 'LogP_row', 'NumHDonors_row',\n",
       "       'NumHAcceptors_row', 'MW_col', 'LogP_col', 'NumHDonors_col',\n",
       "       'NumHAcceptors_col', 'synergistic'],\n",
       "      dtype='object')"
      ]
     },
     "execution_count": 10,
     "metadata": {},
     "output_type": "execute_result"
    }
   ],
   "source": [
    "df.columns"
   ]
  },
  {
   "cell_type": "code",
   "execution_count": 11,
   "id": "1e1b21fa",
   "metadata": {},
   "outputs": [
    {
     "name": "stdout",
     "output_type": "stream",
     "text": [
      "9\n"
     ]
    }
   ],
   "source": [
    "# define features and target variable\n",
    "features = ['cell_line_name','MW_row', 'LogP_row', 'NumHDonors_row','NumHAcceptors_row', 'MW_col', 'LogP_col','NumHDonors_col', 'NumHAcceptors_col']\n",
    "target = ['synergistic']\n",
    "print(len(features))\n"
   ]
  },
  {
   "cell_type": "code",
   "execution_count": 12,
   "id": "472a2be5",
   "metadata": {},
   "outputs": [],
   "source": [
    "X = df[features]\n",
    "y = df[target]\n"
   ]
  },
  {
   "cell_type": "code",
   "execution_count": 13,
   "id": "0b1de310",
   "metadata": {},
   "outputs": [],
   "source": [
    "# splitting the data with 75-25 ratio\n",
    "X_train, X_test, y_train, y_test = train_test_split(X, y, test_size=0.20, random_state=7)"
   ]
  },
  {
   "cell_type": "markdown",
   "id": "ac067459",
   "metadata": {},
   "source": [
    "#### Model 1) XGBoost"
   ]
  },
  {
   "cell_type": "code",
   "execution_count": 82,
   "id": "ea1fd920",
   "metadata": {},
   "outputs": [
    {
     "name": "stdout",
     "output_type": "stream",
     "text": [
      "Accuracy: 0.9481743227326266\n",
      "F1 Score: 0.8439716312056739\n",
      "Cross val Accuracy: 0.646 (0.071)\n"
     ]
    },
    {
     "data": {
      "image/png": "[encoded data removed]",
      "text/plain": [
       "<Figure size 432x288 with 2 Axes>"
      ]
     },
     "metadata": {
      "needs_background": "light"
     },
     "output_type": "display_data"
    }
   ],
   "source": [
    "# XGB\n",
    "\n",
    "clf = XGBClassifier(max_depth= 15, min_child_weight= 3, scale_pos_weight= 6, use_label_encoder=False,eval_metric = 'error')\n",
    "\n",
    "\n",
    "clf.fit(X_train, y_train.values.ravel())\n",
    "\n",
    "y_pred = clf.predict(X_test)\n",
    "# Calculating Accuracy and f1 score\n",
    "print(\"Accuracy:\",metrics.accuracy_score(y_test, y_pred))\n",
    "print(\"F1 Score:\",f1_score(y_test, y_pred))\n",
    "# Cross validation\n",
    "scores = cross_val_score(clf, X, y.values.ravel(), scoring='f1_macro')\n",
    "print('Cross val Accuracy: %.3f (%.3f)' % (mean(scores), std(scores)))\n",
    "# Defining the confusion matrix\n",
    "cf_matrix = confusion_matrix(y_test, y_pred)\n",
    "# Visual representation\n",
    "cm_xgb = confusion_matrix(y_test, y_pred)\n",
    "fig = ConfusionMatrixDisplay(cm_xgb).plot()\n"
   ]
  },
  {
   "cell_type": "markdown",
   "id": "ac15bb07",
   "metadata": {},
   "source": [
    "#### Model 2 Random Forest"
   ]
  },
  {
   "cell_type": "code",
   "execution_count": 28,
   "id": "f35ec5f0",
   "metadata": {},
   "outputs": [
    {
     "name": "stdout",
     "output_type": "stream",
     "text": [
      "Accuracy: 0.944640753828033\n",
      "F1 Score: 0.8185328185328187\n",
      "Cross val Accuracy: 0.595 (0.068)\n"
     ]
    },
    {
     "data": {
      "image/png": "[encoded data removed]",
      "text/plain": [
       "<Figure size 432x288 with 2 Axes>"
      ]
     },
     "metadata": {
      "needs_background": "light"
     },
     "output_type": "display_data"
    }
   ],
   "source": [
    "# RF\n",
    "rf = RandomForestClassifier(n_estimators=100,random_state=7)\n",
    "\n",
    "rf.fit(X_train, y_train.values.ravel())\n",
    "\n",
    "y_pred_rf = rf.predict(X_test)\n",
    "\n",
    "\n",
    "y_pred_rf\n",
    "\n",
    "# Calculating Accuracy and f1 score\n",
    "print(\"Accuracy:\",metrics.accuracy_score(y_test, y_pred_rf))\n",
    "print(\"F1 Score:\",f1_score(y_test, y_pred_rf))\n",
    "\n",
    "# Cross validation\n",
    "scores_rf = cross_val_score(rf, X, y.values.ravel(), scoring='f1_macro')\n",
    "scores_rf\n",
    "\n",
    "print('Cross val Accuracy: %.3f (%.3f)' % (mean(scores_rf), std(scores_rf)))\n",
    "\n",
    "# Visual representation\n",
    "\n",
    "cm_rf = confusion_matrix(y_test, y_pred_rf)\n",
    "\n",
    "cm_rf_display = ConfusionMatrixDisplay(cm_rf).plot()"
   ]
  },
  {
   "cell_type": "markdown",
   "id": "fdf260ec",
   "metadata": {},
   "source": [
    "#### Model 3) Decision Tree Classifier"
   ]
  },
  {
   "cell_type": "code",
   "execution_count": 29,
   "id": "f22487b1",
   "metadata": {},
   "outputs": [
    {
     "name": "stdout",
     "output_type": "stream",
     "text": [
      "Accuracy: 0.944640753828033\n",
      "F1 Score: 0.8185328185328187\n",
      "Cross val Accuracy: 0.599 (0.075)\n"
     ]
    },
    {
     "data": {
      "image/png": "[encoded data removed]",
      "text/plain": [
       "<Figure size 432x288 with 2 Axes>"
      ]
     },
     "metadata": {
      "needs_background": "light"
     },
     "output_type": "display_data"
    }
   ],
   "source": [
    "# DecisionTree\n",
    "\n",
    "clf_dt = DecisionTreeClassifier(random_state=7)\n",
    "\n",
    "clf_dt.fit(X_train, y_train.values.ravel())\n",
    "\n",
    "y_pred_dt = rf.predict(X_test)\n",
    "\n",
    "\n",
    "y_pred_dt\n",
    "\n",
    "# Calculating Accuracy and f1 score\n",
    "print(\"Accuracy:\",metrics.accuracy_score(y_test, y_pred_dt))\n",
    "print(\"F1 Score:\",f1_score(y_test, y_pred_dt))\n",
    "\n",
    "# Cross validation\n",
    "scores_dt = cross_val_score(clf_dt, X, y.values.ravel(), scoring='f1_macro')\n",
    "scores_dt\n",
    "\n",
    "print('Cross val Accuracy: %.3f (%.3f)' % (mean(scores_dt), std(scores_dt)))\n",
    "\n",
    "# Visual representation\n",
    "\n",
    "cm_dt = confusion_matrix(y_test, y_pred_dt)\n",
    "\n",
    "cm_dt_display = ConfusionMatrixDisplay(cm_dt).plot()"
   ]
  },
  {
   "cell_type": "markdown",
   "id": "b723ae92",
   "metadata": {},
   "source": [
    "#### Model 4) Gradient Boosting"
   ]
  },
  {
   "cell_type": "code",
   "execution_count": 30,
   "id": "3645c13c",
   "metadata": {},
   "outputs": [
    {
     "name": "stdout",
     "output_type": "stream",
     "text": [
      "Accuracy: 0.911660777385159\n",
      "F1 Score: 0.669603524229075\n",
      "Cross val Accuracy: 0.616 (0.058)\n"
     ]
    },
    {
     "data": {
      "image/png": "[encoded data removed]",
      "text/plain": [
       "<Figure size 432x288 with 2 Axes>"
      ]
     },
     "metadata": {
      "needs_background": "light"
     },
     "output_type": "display_data"
    }
   ],
   "source": [
    "from sklearn.ensemble import GradientBoostingClassifier\n",
    "gbc_clf = GradientBoostingClassifier(random_state=7, n_estimators=100).fit(X,y.values.ravel())\n",
    "y_pred_gbc = gbc_clf.predict(X_test)\n",
    "\n",
    "y_pred_gbc\n",
    "\n",
    "# Calculating Accuracy and f1 score\n",
    "print(\"Accuracy:\",metrics.accuracy_score(y_test, y_pred_gbc))\n",
    "print(\"F1 Score:\",f1_score(y_test, y_pred_gbc))\n",
    "\n",
    "# Cross validation\n",
    "scores_gbc = cross_val_score(gbc_clf, X, y.values.ravel(), scoring='f1_macro')\n",
    "scores_gbc\n",
    "\n",
    "print('Cross val Accuracy: %.3f (%.3f)' % (mean(scores_gbc), std(scores_gbc)))\n",
    "\n",
    "# Visual representation\n",
    "\n",
    "cm_gbc = confusion_matrix(y_test, y_pred_gbc)\n",
    "\n",
    "cm_gbc_display = ConfusionMatrixDisplay(cm_gbc).plot()"
   ]
  },
  {
   "cell_type": "markdown",
   "id": "5b732b7c",
   "metadata": {},
   "source": [
    "## Hyper-parameter tuning"
   ]
  },
  {
   "cell_type": "markdown",
   "id": "c756ef6e",
   "metadata": {},
   "source": [
    "### Grid search cv"
   ]
  },
  {
   "cell_type": "code",
   "execution_count": 69,
   "id": "d786a8a7",
   "metadata": {},
   "outputs": [],
   "source": [
    "param_grid = {\n",
    "    \"max_depth\": range(2,20,1),\n",
    "    \"min_child_weight\": range(2,20,1),\n",
    "    \"scale_pos_weight\": range(2,20,1)\n",
    "}\n",
    "estimator = XGBClassifier(\n",
    "    objective= 'binary:logistic',\n",
    "    nthread=4,\n",
    "    seed=7,\n",
    "    use_label_encoder=False,\n",
    "    eval_metric = 'error'\n",
    ")\n",
    "\n",
    "# param_grid = {\n",
    "#     \"max_depth\": range(10,20,1),\n",
    "#     \"min_child_weight\": range(5,15,1),\n",
    "#     \"scale_pos_weight\": range(10,20,1)\n",
    "# }\n",
    "# estimator = XGBClassifier(\n",
    "#     objective= 'binary:logistic',\n",
    "#     nthread=4,\n",
    "#     seed=7,\n",
    "#     use_label_encoder=False,\n",
    "#     eval_metric = 'error'\n",
    "# )"
   ]
  },
  {
   "cell_type": "code",
   "execution_count": 70,
   "id": "2c557f70",
   "metadata": {},
   "outputs": [],
   "source": [
    "grid_search = GridSearchCV(\n",
    "    estimator=estimator,\n",
    "    param_grid=param_grid,\n",
    "    scoring = 'f1_macro',\n",
    "    n_jobs = 10,\n",
    "    cv = 5,\n",
    "    verbose=True\n",
    ")"
   ]
  },
  {
   "cell_type": "code",
   "execution_count": 71,
   "id": "7a879e84",
   "metadata": {},
   "outputs": [
    {
     "name": "stdout",
     "output_type": "stream",
     "text": [
      "Fitting 5 folds for each of 5832 candidates, totalling 29160 fits\n"
     ]
    },
    {
     "data": {
      "text/plain": [
       "GridSearchCV(cv=5,\n",
       "             estimator=XGBClassifier(base_score=None, booster=None,\n",
       "                                     colsample_bylevel=None,\n",
       "                                     colsample_bynode=None,\n",
       "                                     colsample_bytree=None,\n",
       "                                     enable_categorical=False,\n",
       "                                     eval_metric='error', gamma=None,\n",
       "                                     gpu_id=None, importance_type=None,\n",
       "                                     interaction_constraints=None,\n",
       "                                     learning_rate=None, max_delta_step=None,\n",
       "                                     max_depth=None, min_child_weight=None,\n",
       "                                     missing=nan, monoto...\n",
       "                                     n_estimators=100, n_jobs=None, nthread=4,\n",
       "                                     num_parallel_tree=None, predictor=None,\n",
       "                                     random_state=None, reg_alpha=None,\n",
       "                                     reg_lambda=None, scale_pos_weight=None,\n",
       "                                     seed=7, subsample=None, tree_method=None,\n",
       "                                     use_label_encoder=False, ...),\n",
       "             n_jobs=10,\n",
       "             param_grid={'max_depth': range(2, 20),\n",
       "                         'min_child_weight': range(2, 20),\n",
       "                         'scale_pos_weight': range(2, 20)},\n",
       "             scoring='f1_macro', verbose=True)"
      ]
     },
     "execution_count": 71,
     "metadata": {},
     "output_type": "execute_result"
    }
   ],
   "source": [
    "grid_search.fit(X, y.values.ravel())\n"
   ]
  },
  {
   "cell_type": "code",
   "execution_count": 72,
   "id": "21cd24ec",
   "metadata": {},
   "outputs": [
    {
     "data": {
      "text/plain": [
       "{'max_depth': 15, 'min_child_weight': 3, 'scale_pos_weight': 6}"
      ]
     },
     "execution_count": 72,
     "metadata": {},
     "output_type": "execute_result"
    }
   ],
   "source": [
    "grid_search.best_params_"
   ]
  },
  {
   "cell_type": "code",
   "execution_count": 73,
   "id": "c9d57e36",
   "metadata": {},
   "outputs": [
    {
     "data": {
      "text/plain": [
       "0.6455525809970023"
      ]
     },
     "execution_count": 73,
     "metadata": {},
     "output_type": "execute_result"
    }
   ],
   "source": [
    "grid_search.best_score_"
   ]
  },
  {
   "cell_type": "code",
   "execution_count": null,
   "id": "ae269b8a",
   "metadata": {},
   "outputs": [],
   "source": []
  }
 ],
 "metadata": {
  "kernelspec": {
   "display_name": "Python 3 (ipykernel)",
   "language": "python",
   "name": "python3"
  },
  "language_info": {
   "codemirror_mode": {
    "name": "ipython",
    "version": 3
   },
   "file_extension": ".py",
   "mimetype": "text/x-python",
   "name": "python",
   "nbconvert_exporter": "python",
   "pygments_lexer": "ipython3",
   "version": "3.9.7"
  }
 },
 "nbformat": 4,
 "nbformat_minor": 5
}
